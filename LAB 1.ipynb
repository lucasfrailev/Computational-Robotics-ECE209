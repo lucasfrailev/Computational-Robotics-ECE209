{
 "cells": [
  {
   "cell_type": "markdown",
   "metadata": {},
   "source": [
    "# LAB 1"
   ]
  },
  {
   "cell_type": "code",
   "execution_count": 6,
   "metadata": {},
   "outputs": [],
   "source": [
    "import numpy as np\n",
    "import random as rand\n",
    "import matplotlib.pyplot as plt\n",
    "import time as time\n",
    "import operator\n",
    "rand.seed()"
   ]
  },
  {
   "cell_type": "markdown",
   "metadata": {},
   "source": [
    "## GLOBAL CONSTANTS"
   ]
  },
  {
   "cell_type": "code",
   "execution_count": 7,
   "metadata": {},
   "outputs": [],
   "source": [
    "# grid world dimensions\n",
    "length = 7\n",
    "width = 7\n",
    "\n",
    "#list all possible states, which are combinations of positions x, y, and a direction to be facing\n",
    "states = [(x,y,heading) for x in range(length+1) for y in range(width+1) for heading in range(12)]\n",
    "num_states = len(states)\n",
    "\n",
    "#lists all possible actions, so combinations of (translation direction, rotation direction)\n",
    "actions = [(0,0),(1,0),(1,1),(1,-1),(-1,-1),(-1,0),(-1,1)]\n",
    "num_actions = len(actions)\n",
    "\n",
    "#Probability of pre-rotation error\n",
    "error_probability = 0.0\n",
    "\n",
    "#Discount factor to be used in iterations\n",
    "discount_factor = 0.9\n",
    "\n",
    "#Initial state for all simulations\n",
    "initial_state = (1,6,6)\n",
    "\n",
    "#Target destination\n",
    "goal = np.array([5,6])"
   ]
  },
  {
   "cell_type": "markdown",
   "metadata": {},
   "source": [
    "## Q1\n",
    "\n",
    "1. The variable `states` holds all possible states.  There are $N_S = 7\\times 7\\times 12$ states.\n",
    "\n",
    "2. The variable `actions` holds all possible actions.  There are $N_A = 7$ actions. ($A = \\{-1,0,1\\}\\times\\{-1,0,1\\} \\setminus (0,\\pm 1)$)\n",
    "\n",
    "3. The function `state_probability` computes $P(s,a,s')$.  This is made simpler by the fact that given an initial state $s\\in S$, and action $a\\in A$, there are only three states which have nonzero probability--those corresponding to:\n",
    "  * Evolving state $s$ with action $a$ when there is no prerotation error. (With probability $2-p_e$)\n",
    "  * Evolving state $s$ with action $a$ when there is a positive prerotation error. (With probability $p_e$)\n",
    "  * Evolving state $s$ with action $a$ when there is a negative prerotation error. (With probability $p_e$)\n",
    "We can then take advantage of the law of total probability, which states:\n",
    "\n",
    "\\begin{align}\n",
    "P(s_{t+1} = s' \\mid s_t,a_t) &= P(s_{t+1} = s' \\mid s_t,a_t,e_+)p_e + P(s_{t+1} = s' \\mid s_t,a_t,e_-)p_e + P(s_{t+1} = s' \\mid s_t,a_t,no~error)(1-2*p_e)\n",
    "\\end{align}\n",
    "\n",
    "So, given a state $s$ and action $a$, we can evolve the state $s$ in these three ways, and return the probabilities of each state.  (Exactly this is done later in the function `evolve_option`.)\n",
    "If any of these \"evolved states\" are identical, this is fine, we may simply return the sum of probabilities associated to each evolved state.  In other words, if two evolutions of $s$ are the same, then the total probability of going to this state is their sum.\n",
    "\n",
    "4. To draw from the mass function described by these three states, we can consider dividing the interval $[0,1]\\subset\\mathbb{R}$ into three portions equal to the corresponding probabilities of each evolved state (three total).  Then, we may draw a random number $x\\in[0,1]$ and compute:\n",
    "\n",
    "\\begin{align}\n",
    "state(x) &= \\begin{cases}\n",
    "\\text{state evolved with no rotation error}& 0\\leq x \\leq 1-2p_e \\\\\n",
    "\\text{state evolved with positive rotation error}& 1-2p_e < x \\leq 1-p_e \\\\\n",
    "\\text{state evolved with negative rotation error}& 1-p_e < x \\leq 1\n",
    "\\end{cases}\n",
    "\\end{align}\n",
    "\n",
    "This is then guaranteed to follow the correct distribution, provided $x$ is drawn uniformly from $[0,1]$."
   ]
  },
  {
   "cell_type": "code",
   "execution_count": 8,
   "metadata": {},
   "outputs": [],
   "source": [
    "def heading_to_direction(heading):\n",
    "    num = ((heading+1)%12)/3\n",
    "    if num < 1:\n",
    "        return (0,1)\n",
    "    elif 1 <= num <2:\n",
    "        return (1,0)\n",
    "    elif 2 <= num <3:\n",
    "        return (0,-1)\n",
    "    elif 3 <= num < 4:\n",
    "        return (-1,0)\n",
    "    \n",
    "def evolve_state(state,action):\n",
    "    global length\n",
    "    global width\n",
    "    cardinal_direction = heading_to_direction(state[2]) # which way will I move?\n",
    "    x = state[0] + action[0]*cardinal_direction[0]\n",
    "    y = state[1] + action[0]*cardinal_direction[1]\n",
    "    if (x < 0 or x > width): #undo step action if moves you out\n",
    "        x = state[0]\n",
    "    if (y < 0 or y > length): #undo step action if moves you out\n",
    "        y = state[1]\n",
    "    final_state = (x,y,(state[2]+action[1])%12)\n",
    "    return final_state\n",
    "\n",
    "def state_probability(initial_state, final_state, action, error_probability):\n",
    "    # you will always stay still if you ask to\n",
    "    if initial_state == final_state and action == (0,0):\n",
    "        return 1.0\n",
    "    \n",
    "    error_state_plus = (initial_state[0],initial_state[1],(initial_state[2]+1)%12)\n",
    "    error_state_minus = (initial_state[0],initial_state[1],(initial_state[2]-1)%12)\n",
    "    \n",
    "    probability = 0.0\n",
    "    if final_state == evolve_state(error_state_minus,action):\n",
    "        probability += error_probability\n",
    "    if final_state == evolve_state(error_state_plus,action):\n",
    "        probability += error_probability\n",
    "    if final_state == evolve_state(initial_state,action):\n",
    "        probability += 1.0 - 2.0*error_probability\n",
    "    \n",
    "    return probability\n",
    "\n",
    "def transition_me(initial_state,action,error_probability):\n",
    "    a = rand.random()\n",
    "    if 0 <= a <= error_probability:\n",
    "        state = evolve_state((initial_state[0],initial_state[1],(initial_state[2]+1)%12),action)\n",
    "    elif a <= error_probability*2.0 :\n",
    "        state = evolve_state((initial_state[0],initial_state[1],(initial_state[2]-1)%12),action)\n",
    "    else :\n",
    "        state = evolve_state(initial_state,action)\n",
    "    return (state)"
   ]
  },
  {
   "cell_type": "markdown",
   "metadata": {},
   "source": [
    "## Q2"
   ]
  },
  {
   "cell_type": "markdown",
   "metadata": {},
   "source": [
    "1. Here we define the reward function $R(s,a,s')$.  However, in this scenario, the action taken and previous state do not matter, so $R:S\\rightarrow \\mathbb{R}$.  Given we represent $S$ as a tuple with $s\\in S$ as $s = (s_x,s_y,s_h)$, we can directly define our reward:\n",
    "\n",
    "\\begin{align}\n",
    "R(s) = R((s_x,s_y,s_h)) &= \\begin{cases}\n",
    "-100 & s_x~\\%~W=0\\text{ or }s_y~\\%~L=0 \\\\\n",
    "-10 & s_x = 3\\text{ and }4\\leq s_y \\leq 6 \\\\\n",
    "1 & s_x = 5 \\text{ and }s_y = 6 \\\\\n",
    "0 & \\text{otherwise}\n",
    "\\end{cases}\n",
    "\\end{align}"
   ]
  },
  {
   "cell_type": "code",
   "execution_count": 9,
   "metadata": {},
   "outputs": [],
   "source": [
    "def reward(state):\n",
    "    global length\n",
    "    global width\n",
    "    if not((state[0] % width) and (state[1] % length)):\n",
    "        return -100.0\n",
    "    elif (4 <= state[1] <= 6) and state[0] == 3:\n",
    "        return -10.0\n",
    "    elif state[0] == 5 and state[1] == 6:\n",
    "        return 1.0\n",
    "    else:\n",
    "        return 0.0"
   ]
  },
  {
   "cell_type": "markdown",
   "metadata": {},
   "source": [
    "## Q3"
   ]
  },
  {
   "cell_type": "markdown",
   "metadata": {},
   "source": [
    "As a naive initial $\\pi_0$ \n",
    "\n",
    "1. Because the policy $\\pi$ is a mapping from states to actions (i.e. $\\pi:S\\rightarrow A$), we can directly represent this mapping using a dictionary in Python.  Dictionaries map given $keys$ to particular $values$, both of which can be almost any arbitrary data type.  For $\\pi$, the keys will be states (which are 3-tuples), and the values will be actions (which are 2-tuples).  We generate this dictionary here using our `initial_policy` function and store it in the dictionary  `initial_policy`.  These are named the same but Python lets us lazily overload the operator."
   ]
  },
  {
   "cell_type": "code",
   "execution_count": 39,
   "metadata": {},
   "outputs": [],
   "source": [
    "def initial_policy(state,goal):\n",
    "    pos = np.array([state[0],state[1]])\n",
    "    diff = goal - pos\n",
    "    if not any(diff):\n",
    "        return (0,0)\n",
    "    diff = diff/np.linalg.norm(diff) #normalized vector pointing to goal\n",
    "\n",
    "    heading_angle = np.array([np.sin((np.pi/6.0)*state[2]),np.cos(np.pi*state[2]/6.0)]) #normalized vector pointing in heading\n",
    "    action_translate = np.sign(np.dot(diff,heading_angle))\n",
    "    if action_translate == 0: # robot is facing perpendicular direction of desired travel\n",
    "        return (1,np.sign(np.cross(diff,heading_angle))) # move up.  Why not? any movement is pretty much even.\n",
    "    \n",
    "    one_step = evolve_state(state,(action_translate,0))\n",
    "    pos = [one_step[0], one_step[1]]\n",
    "    diff = goal - pos\n",
    "    if not any(diff):\n",
    "        action_rotate = 0\n",
    "    else :\n",
    "        diff = diff/np.linalg.norm(diff)\n",
    "        action_rotate = np.round(np.cross(diff,heading_angle))*action_translate \n",
    "    \n",
    "    return (action_translate,action_rotate)\n",
    "\n",
    "initial_policy = {state: initial_policy(state,goal) for state in states} #map each state to its action"
   ]
  },
  {
   "cell_type": "markdown",
   "metadata": {},
   "source": [
    "2. The function `simulate` takes in an initial state $s(0)$, a policy $\\pi$ (as a dict), error probability $p_e\\in[0,1]$, and how many steps to take in the simulation.  It returns a sequence of states as a list.  The function `plot_trajectory` plots the resulting sequence through the environment."
   ]
  },
  {
   "cell_type": "code",
   "execution_count": 40,
   "metadata": {},
   "outputs": [],
   "source": [
    "def simulate(initial_state,policy,error_probability,tsteps):\n",
    "    trajectory = [initial_state]\n",
    "    for i in range(tsteps):\n",
    "        trajectory.append(transition_me(trajectory[i],policy[trajectory[i]],error_probability))\n",
    "    return trajectory"
   ]
  },
  {
   "cell_type": "code",
   "execution_count": 48,
   "metadata": {},
   "outputs": [],
   "source": [
    "def plot_trajectory(trajectory):\n",
    "    global length\n",
    "    global width\n",
    "    headings = np.empty([len(trajectory),2])\n",
    "    coordinates = np.empty([len(trajectory),2])\n",
    "    for (i,state) in enumerate(trajectory):\n",
    "        #if trajectory[i-1] == state:\n",
    "            #break\n",
    "        coordinates[i,:] = [state[0],state[1]]\n",
    "        headings[i,:] = [np.sin((np.pi/6.0)*state[2]), np.cos((np.pi/6)*state[2])]\n",
    "    walls = []\n",
    "    for i in range(width+1):\n",
    "        walls.append((0,i))\n",
    "        walls.append((i,0))\n",
    "        walls.append((i,width))\n",
    "        walls.append((length,i))\n",
    "    goal = (5,6)\n",
    "    obstacles = [(3,i) for i in range(4,7)]\n",
    "    size = 500\n",
    "    for wall in walls:\n",
    "        plt.scatter(wall[0],wall[1], marker='s', color='red', s=size)\n",
    "    for obstacle in obstacles:\n",
    "        plt.scatter(obstacle[0],obstacle[1],marker='s',color='yellow',s=size)\n",
    "    plt.scatter(goal[0],goal[1],marker='s',color='green',s=size)\n",
    "    plt.plot(coordinates[:,0],coordinates[:,1])\n",
    "    plt.axis([-0.5,width+0.5,-0.5,length+0.5])\n",
    "    plt.quiver(coordinates[:,0],coordinates[:,1],headings[:,0],headings[:,1])\n",
    "    plt.grid()\n",
    "    plt.show()"
   ]
  },
  {
   "cell_type": "markdown",
   "metadata": {},
   "source": [
    "3. The following plot shows the naive policy $\\pi_0$ acting on the initial state $s(0) = (1,6,6)$ with $p_e =0$."
   ]
  },
  {
   "cell_type": "code",
   "execution_count": 58,
   "metadata": {},
   "outputs": [
    {
     "data": {
      "image/png": "[encoded data removed]",
      "text/plain": [
       "<Figure size 432x288 with 1 Axes>"
      ]
     },
     "metadata": {
      "needs_background": "light"
     },
     "output_type": "display_data"
    }
   ],
   "source": [
    "tsteps = 100\n",
    "trajectory = simulate(initial_state,initial_policy,error_probability,tsteps)\n",
    "plot_trajectory(trajectory)"
   ]
  },
  {
   "cell_type": "markdown",
   "metadata": {},
   "source": [
    "4. The policy value $V^{\\pi}$ is a mapping from states to values.  The official relationship is:\n",
    "\\begin{align}\n",
    "V^{\\pi}(s) &= \\sum_{s'\\in S}P(s,\\pi(s),s')\\left(R(s') + \\gamma V^\\pi(s') \\right)\n",
    "\\end{align}\n",
    "This recursive relationship alone isn't completely helpful for computation.  We can instead use the following algorithm steps to compute the value of the policy $V^{\\pi}$.\n",
    "  * Initialize $V^{\\pi}_0(s) = 0$ for all $s\\in S$\n",
    "  * $i = 1$\n",
    "  * Loop: while $V^{\\pi}_{i-1} \\neq V^{\\pi}_{i}$:\n",
    "    * $V_{i+1}^{\\pi}(s) = \\sum_{s'\\in S}P(s,\\pi(s),s')\\left( R(s') + \\gamma V^{\\pi}_{i}(s')\\right)$ for all $s\\in S$\n",
    "    * $i = i+1$\n",
    "  * return $V_i$\n",
    "  \n",
    "To save on computation, we take advantage of the fact that at any state $s$ and action $a$, only three $s'\\in S\\s$ have nonzero probability.  The function `evolve_options` computes these states and their associated probabilities.  It is then used in the function `policy_evaluation_all_states` to run the algorithm outlined above.  Rather than waiting for exact convergence (i.e. $V^{\\pi}_{i-1} \\neq V^{\\pi}_{i}$) we include a tolerance which stops the algorithm at 0.001 difference."
   ]
  },
  {
   "cell_type": "code",
   "execution_count": 59,
   "metadata": {},
   "outputs": [],
   "source": [
    "def evolve_options(state, action, error_probability):\n",
    "    global length\n",
    "    global width\n",
    "    if error_probability:\n",
    "        heading_error_p = (state[2]+1)%12\n",
    "        heading_error_m = (state[2]-1)%12\n",
    "\n",
    "        direction_no_error = heading_to_direction(state[2]) # which way will I move?\n",
    "        direction_error_p = heading_to_direction(heading_error_p)\n",
    "        direction_error_m = heading_to_direction(heading_error_m)\n",
    "\n",
    "        x_no_error = state[0] + action[0]*direction_no_error[0]\n",
    "        y_no_error = state[1] + action[0]*direction_no_error[1]\n",
    "\n",
    "        x_error_p = state[0] + action[0]*direction_error_p[0]\n",
    "        y_error_p = state[1] + action[0]*direction_error_p[1]\n",
    "\n",
    "        x_error_m = state[0] + action[0]*direction_error_m[0]\n",
    "        y_error_m = state[1] + action[0]*direction_error_m[1]\n",
    "\n",
    "        if (x_no_error < 0 or x_no_error > width): #undo step action if moves you out\n",
    "            x_no_error = state[0]\n",
    "        if (y_no_error < 0 or y_no_error > length): #undo step action if moves you out\n",
    "            y_no_error = state[1]\n",
    "\n",
    "        if (x_error_p < 0 or x_error_p > width): #undo step action if moves you out\n",
    "            x_error_p = state[0]\n",
    "        if (y_error_p < 0 or y_error_p > length): #undo step action if moves you out\n",
    "            y_error_p = state[1]\n",
    "\n",
    "        if (x_error_m < 0 or x_error_m > width): #undo step action if moves you out\n",
    "            x_error_m = state[0]\n",
    "        if (y_error_m < 0 or y_error_m > length): #undo step action if moves you out\n",
    "            y_error_m = state[1]\n",
    "\n",
    "        state_no_error = (x_no_error,y_no_error,(state[2]+action[1])%12)\n",
    "        state_error_p = (x_error_p,y_error_p,(heading_error_p + action[1])%12)\n",
    "        state_error_m = (x_error_m,y_error_m,(heading_error_m + action[1])%12)\n",
    "\n",
    "        probabilities = {state_no_error : 1.0}\n",
    "\n",
    "        if state_error_p != state_no_error:\n",
    "            probabilities[state_no_error] -= error_probability\n",
    "            probabilities.update({state_error_p : error_probability})\n",
    "        if state_error_m != state_no_error:\n",
    "            probabilities[state_no_error] -= error_probability\n",
    "            probabilities.update({state_error_m : error_probability})\n",
    "        return probabilities\n",
    "    else:\n",
    "        direction = heading_to_direction(state[2])\n",
    "        x_no_error = state[0] + action[0]*direction[0]\n",
    "        y_no_error = state[1] + action[0]*direction[1]\n",
    "        if (x_no_error < 0 or x_no_error > width): #undo step action if moves you out\n",
    "            x_no_error = state[0]\n",
    "        if (y_no_error < 0 or y_no_error > length): #undo step action if moves you out\n",
    "            y_no_error = state[1]\n",
    "        return {(x_no_error,y_no_error,(state[2]+action[1])%12) : 1.0}\n",
    "\n",
    "def policy_evaluation_all_states(policy, discount_factor, error_probability):\n",
    "    diff = np.inf\n",
    "    value = dict.fromkeys(policy,0)\n",
    "    tol = 0.0001\n",
    "    while diff > tol :\n",
    "        diff = 0\n",
    "        for state in policy.keys():\n",
    "            old = value[state]\n",
    "            new = 0\n",
    "            for (finals,p) in evolve_options(state,policy[state],error_probability).items():\n",
    "                new += p*(reward(finals) + discount_factor*value[finals])\n",
    "            value[state] = new\n",
    "            diff = max(diff,abs(old-new))\n",
    "    return value"
   ]
  },
  {
   "cell_type": "markdown",
   "metadata": {},
   "source": [
    "5. We then perform a policy evaluation on all possible states of our initial policy $\\pi_0$, and the value of the earlier trajectory is the value at the initial state $s(0) = (1,6,6)$."
   ]
  },
  {
   "cell_type": "code",
   "execution_count": 60,
   "metadata": {},
   "outputs": [],
   "source": [
    "initial_policy_value = policy_evaluation_all_states(initial_policy,discount_factor,error_probability)"
   ]
  },
  {
   "cell_type": "code",
   "execution_count": 61,
   "metadata": {},
   "outputs": [
    {
     "data": {
      "text/plain": [
       "-2.507716596132412"
      ]
     },
     "execution_count": 61,
     "metadata": {},
     "output_type": "execute_result"
    }
   ],
   "source": [
    "initial_policy_value[initial_state]"
   ]
  },
  {
   "cell_type": "markdown",
   "metadata": {},
   "source": [
    "We can even compare this value to the formulaic computation of the value, and see that it lines up."
   ]
  },
  {
   "cell_type": "code",
   "execution_count": 63,
   "metadata": {},
   "outputs": [
    {
     "name": "stdout",
     "output_type": "stream",
     "text": [
      "-2.507296613988874\n"
     ]
    }
   ],
   "source": [
    "initial_trajectory_value = 0\n",
    "for (t,state) in enumerate(trajectory):\n",
    "    initial_trajectory_value += reward(state)*discount_factor**(t-1)\n",
    "print(initial_trajectory_value)"
   ]
  },
  {
   "cell_type": "markdown",
   "metadata": {},
   "source": [
    "5. The function `compute_policy` takes a given value function and computes:\n",
    "\\begin{align}\n",
    "    \\pi_{i+1}(s) &= \\underset{a\\in A}{\\text{argmax}}\\left[ \\sum_{s'\\in S}P(s,a,s')\\left(R(s') + \\gamma V_i(s')\\right)\\right]\n",
    "\\end{align}\n",
    "Algorithmically it does this by using the current value function to compute the value of each action similarly to what is done for policy evaluation."
   ]
  },
  {
   "cell_type": "code",
   "execution_count": 64,
   "metadata": {},
   "outputs": [],
   "source": [
    "def compute_policy(value_all_states,state,actions,error_probability):\n",
    "    V = {}\n",
    "    for action in actions:\n",
    "        possible_finals = evolve_options(state,action,error_probability)\n",
    "        value = 0\n",
    "        for (final,p) in possible_finals.items():\n",
    "            value += p*(reward(final) + discount_factor*value_all_states[final])\n",
    "        V.update({action : value})\n",
    "    argmax_policy = max(V.items(), key=operator.itemgetter(1))[0]\n",
    "    return argmax_policy"
   ]
  },
  {
   "cell_type": "markdown",
   "metadata": {},
   "source": [
    "6. Policy iteration simply straps the previous two functions together, iterating:\n",
    "\n",
    "  * Input: initial policy $\\pi_0$\n",
    "  * $i = 0$\n",
    "  * While not converged:\n",
    "    * Evaluate policy $\\pi_i$, find $V^{\\pi_i}$\n",
    "    * Extract new policy $\\pi_{i+1}$ from $V^{\\pi_i}$\n",
    "    * $i = i+1$\n",
    "  * Return: $\\pi_i$ (and $V^{\\pi_i}$ if desired)"
   ]
  },
  {
   "cell_type": "code",
   "execution_count": 14,
   "metadata": {},
   "outputs": [],
   "source": [
    "def policy_iteration(initial_policy,discount_factor,error_probability):\n",
    "    V = policy_evaluation_all_states(initial_policy,discount_factor,error_probability)\n",
    "    actions = set(initial_policy.values())\n",
    "    new_policy = initial_policy\n",
    "    old_policy = {}\n",
    "    while old_policy != new_policy:\n",
    "        for state in V.keys():\n",
    "            old_policy.update({state : new_policy[state]}) # store last value\n",
    "            new_policy.update({state : compute_policy(V,state,actions,error_probability)}) #store new value\n",
    "        V = policy_evaluation_all_states(new_policy,discount_factor,error_probability)\n",
    "    return new_policy"
   ]
  },
  {
   "cell_type": "markdown",
   "metadata": {},
   "source": [
    "7. We then do this policy iteration on our initial naive policy $\\pi_0$ in the scenario explored before.  We also time it, and it seems to take about 3.5 seconds."
   ]
  },
  {
   "cell_type": "code",
   "execution_count": 15,
   "metadata": {},
   "outputs": [
    {
     "data": {
      "image/png": "[encoded data removed]",
      "text/plain": [
       "<Figure size 432x288 with 1 Axes>"
      ]
     },
     "metadata": {
      "needs_background": "light"
     },
     "output_type": "display_data"
    },
    {
     "name": "stdout",
     "output_type": "stream",
     "text": [
      "Policy computed in 3.4695749282836914 seconds\n"
     ]
    }
   ],
   "source": [
    "policy_iter_start = time.time()\n",
    "policy_iter_policy = policy_iteration(initial_policy,discount_factor,error_probability)\n",
    "policy_iter_time = time.time() - policy_iter_start\n",
    "tsteps = 20\n",
    "trajectory = simulate(initial_state,policy_iter_policy,error_probability,tsteps)\n",
    "plot_trajectory(trajectory)\n",
    "print(\"Policy computed in %s seconds\" % policy_iter_time)"
   ]
  },
  {
   "cell_type": "markdown",
   "metadata": {},
   "source": [
    "## Q4"
   ]
  },
  {
   "cell_type": "markdown",
   "metadata": {},
   "source": [
    "1. Value iteration begins with a poor choice of $V^{\\pi}$, then updates repeatedly until it settles to some $V^{\\pi^*}$.  After finding this value, we can extract the optimal policy from a similar maximization as done in policy iteration.  To properly do value iteration, we have an update function `compute_value_update` which, given a state $s\\in S$ computes the new largest action (and its corresponding value at the state) given the current value function.\n",
    "\n",
    "Value iteration is performed through the following algorithm:\n",
    "  * Initialize $V_0(s) = 0$ for all $s\\in S$\n",
    "  * i = 0\n",
    "  * $V_{i+1}(s) = \\underset{a\\in A}{\\max}\\left[\\sum_{s'\\in S}P(s,a,s')\\left(R(s')+\\gamma V_i(s')\\right)\\right]$\n",
    "  * While $V_{i+1}(s) \\neq V_i(s)$:\n",
    "     * $V_{i+1}(s) = \\underset{a\\in A}{\\max}\\left[\\sum_{s'\\in S}P(s,a,s')\\left(R(s')+\\gamma V_i(s')\\right)\\right]$\n",
    "     * $i = i+1$\n",
    "  * $\\pi^* = \\underset{a\\in A}{\\text{argmax}}\\left[ \\sum_{s'\\in S}P(s,a,s')\\left(R(s') + \\gamma V_i(s')\\right)\\right]$\n",
    "  * Return $\\pi^*$."
   ]
  },
  {
   "cell_type": "code",
   "execution_count": 16,
   "metadata": {},
   "outputs": [],
   "source": [
    "def compute_value_update(value_all_states,actions,state,error_probability):\n",
    "    V = {}\n",
    "    for action in actions:\n",
    "        possible_finals = evolve_options(state,action,error_probability)\n",
    "        value = 0\n",
    "        for (final,p) in possible_finals.items():\n",
    "            value += p*(reward(final) + discount_factor*value_all_states[final][1])\n",
    "        V.update({action : value})\n",
    "    (max_action,max_value) = max(V.items(), key=operator.itemgetter(1))\n",
    "    return (max_action,max_value)\n",
    "\n",
    "def value_iteration(states,actions,discount_factor,error_probability):\n",
    "    new_value = dict.fromkeys(states,((1,1),0)) # initial value function with all states' value = 0\n",
    "    old_value = dict.fromkeys(states,((1,0),0))\n",
    "    while old_value != new_value:\n",
    "        for state in states:\n",
    "            old_value.update({state: new_value[state]}) # store the old value function\n",
    "            new_value[state] = compute_value_update(old_value,actions,state,error_probability) #compute new value for each state\n",
    "    \n",
    "    policy = {}\n",
    "    policy.update({state:action for (state,(action,value)) in new_value.items()})\n",
    "    return policy    \n",
    "    \n"
   ]
  },
  {
   "cell_type": "markdown",
   "metadata": {},
   "source": [
    "2. We then perform value iteration on the same setup.  The time comes out to be almost twice as much as that for policy iteration, but the policies seem ultimately the same."
   ]
  },
  {
   "cell_type": "code",
   "execution_count": 65,
   "metadata": {},
   "outputs": [
    {
     "ename": "NameError",
     "evalue": "name 'value_iteration' is not defined",
     "output_type": "error",
     "traceback": [
      "\u001b[0;31m---------------------------------------------------------------------------\u001b[0m",
      "\u001b[0;31mNameError\u001b[0m                                 Traceback (most recent call last)",
      "\u001b[0;32m<ipython-input-65-c10b77d3d21d>\u001b[0m in \u001b[0;36m<module>\u001b[0;34m\u001b[0m\n\u001b[1;32m      1\u001b[0m \u001b[0mvalue_iter_start\u001b[0m \u001b[0;34m=\u001b[0m \u001b[0mtime\u001b[0m\u001b[0;34m.\u001b[0m\u001b[0mtime\u001b[0m\u001b[0;34m(\u001b[0m\u001b[0;34m)\u001b[0m\u001b[0;34m\u001b[0m\u001b[0;34m\u001b[0m\u001b[0m\n\u001b[0;32m----> 2\u001b[0;31m \u001b[0mvalue_iter_policy\u001b[0m \u001b[0;34m=\u001b[0m \u001b[0mvalue_iteration\u001b[0m\u001b[0;34m(\u001b[0m\u001b[0mstates\u001b[0m\u001b[0;34m,\u001b[0m\u001b[0mactions\u001b[0m\u001b[0;34m,\u001b[0m\u001b[0mdiscount_factor\u001b[0m\u001b[0;34m,\u001b[0m\u001b[0merror_probability\u001b[0m\u001b[0;34m)\u001b[0m\u001b[0;34m\u001b[0m\u001b[0;34m\u001b[0m\u001b[0m\n\u001b[0m\u001b[1;32m      3\u001b[0m \u001b[0mvalue_iter_time\u001b[0m \u001b[0;34m=\u001b[0m \u001b[0mtime\u001b[0m\u001b[0;34m.\u001b[0m\u001b[0mtime\u001b[0m\u001b[0;34m(\u001b[0m\u001b[0;34m)\u001b[0m \u001b[0;34m-\u001b[0m \u001b[0mvalue_iter_start\u001b[0m\u001b[0;34m\u001b[0m\u001b[0;34m\u001b[0m\u001b[0m\n\u001b[1;32m      4\u001b[0m \u001b[0mtsteps\u001b[0m \u001b[0;34m=\u001b[0m \u001b[0;36m25\u001b[0m\u001b[0;34m\u001b[0m\u001b[0;34m\u001b[0m\u001b[0m\n\u001b[1;32m      5\u001b[0m \u001b[0mtrajectory\u001b[0m \u001b[0;34m=\u001b[0m \u001b[0msimulate\u001b[0m\u001b[0;34m(\u001b[0m\u001b[0minitial_state\u001b[0m\u001b[0;34m,\u001b[0m\u001b[0mvalue_iter_policy\u001b[0m\u001b[0;34m,\u001b[0m\u001b[0merror_probability\u001b[0m\u001b[0;34m,\u001b[0m\u001b[0mtsteps\u001b[0m\u001b[0;34m)\u001b[0m\u001b[0;34m\u001b[0m\u001b[0;34m\u001b[0m\u001b[0m\n",
      "\u001b[0;31mNameError\u001b[0m: name 'value_iteration' is not defined"
     ]
    }
   ],
   "source": [
    "value_iter_start = time.time()\n",
    "value_iter_policy = value_iteration(states,actions,discount_factor,error_probability)\n",
    "value_iter_time = time.time() - value_iter_start\n",
    "tsteps = 25\n",
    "trajectory = simulate(initial_state,value_iter_policy,error_probability,tsteps)\n",
    "plot_trajectory(trajectory)\n",
    "print('Policy computed in %s seconds' % value_iter_time)"
   ]
  },
  {
   "cell_type": "markdown",
   "metadata": {},
   "source": [
    "## Q5\n",
    "\n",
    "1. We run the same simulations as before but with a probability of error $p_e = 0.25$.  "
   ]
  },
  {
   "cell_type": "code",
   "execution_count": 18,
   "metadata": {},
   "outputs": [],
   "source": [
    "error_probability = 0.25"
   ]
  },
  {
   "cell_type": "code",
   "execution_count": 19,
   "metadata": {},
   "outputs": [
    {
     "data": {
      "image/png": "[encoded data removed]",
      "text/plain": [
       "<Figure size 432x288 with 1 Axes>"
      ]
     },
     "metadata": {
      "needs_background": "light"
     },
     "output_type": "display_data"
    },
    {
     "name": "stdout",
     "output_type": "stream",
     "text": [
      "Policy computed in 10.655462741851807 seconds\n"
     ]
    }
   ],
   "source": [
    "policy_iter_start = time.time()\n",
    "policy_iter_policy = policy_iteration(initial_policy,discount_factor,error_probability)\n",
    "policy_iter_time = time.time() - policy_iter_start\n",
    "tsteps = 20\n",
    "trajectory = simulate(initial_state,policy_iter_policy,error_probability,tsteps)\n",
    "plot_trajectory(trajectory)\n",
    "print(\"Policy computed in %s seconds\" % policy_iter_time)"
   ]
  },
  {
   "cell_type": "code",
   "execution_count": 20,
   "metadata": {},
   "outputs": [
    {
     "data": {
      "image/png": "[encoded data removed]",
      "text/plain": [
       "<Figure size 432x288 with 1 Axes>"
      ]
     },
     "metadata": {
      "needs_background": "light"
     },
     "output_type": "display_data"
    },
    {
     "name": "stdout",
     "output_type": "stream",
     "text": [
      "Policy computed in 19.423713207244873 seconds\n"
     ]
    }
   ],
   "source": [
    "value_iter_start = time.time()\n",
    "value_iter_policy = value_iteration(states,actions,discount_factor,error_probability)\n",
    "value_iter_time = time.time() - value_iter_start\n",
    "tsteps = 25\n",
    "trajectory = simulate(initial_state,value_iter_policy,error_probability,tsteps)\n",
    "plot_trajectory(trajectory)\n",
    "print('Policy computed in %s seconds' % value_iter_time)"
   ]
  },
  {
   "cell_type": "markdown",
   "metadata": {},
   "source": [
    "2. We end by modifying the reward to include a positive reward if the state is $s = (4,5,6)$.  We run simulations with zero and nonzero $p_e$. "
   ]
  },
  {
   "cell_type": "code",
   "execution_count": 66,
   "metadata": {},
   "outputs": [],
   "source": [
    "def reward(state):\n",
    "    global length\n",
    "    global width\n",
    "    if not((state[0] % width) and (state[1] % length)):\n",
    "        return -100.0\n",
    "    elif (4 <= state[1] <= 6) and state[0] == 3:\n",
    "        return -10.0\n",
    "    elif state[0] == 5 and state[1] == 6 and state[2] == 6:\n",
    "        return 1.0\n",
    "    else:\n",
    "        return 0.0"
   ]
  },
  {
   "cell_type": "code",
   "execution_count": 67,
   "metadata": {},
   "outputs": [],
   "source": [
    "error_probability = 0.0"
   ]
  },
  {
   "cell_type": "code",
   "execution_count": 23,
   "metadata": {},
   "outputs": [
    {
     "data": {
      "image/png": "[encoded data removed]",
      "text/plain": [
       "<Figure size 432x288 with 1 Axes>"
      ]
     },
     "metadata": {
      "needs_background": "light"
     },
     "output_type": "display_data"
    },
    {
     "name": "stdout",
     "output_type": "stream",
     "text": [
      "Policy computed in 6.704925060272217 seconds\n"
     ]
    }
   ],
   "source": [
    "value_iter_start = time.time()\n",
    "value_iter_policy = value_iteration(states,actions,discount_factor,error_probability)\n",
    "value_iter_time = time.time() - value_iter_start\n",
    "tsteps = 25\n",
    "trajectory = simulate(initial_state,value_iter_policy,error_probability,tsteps)\n",
    "plot_trajectory(trajectory)\n",
    "print('Policy computed in %s seconds' % value_iter_time)"
   ]
  },
  {
   "cell_type": "code",
   "execution_count": 24,
   "metadata": {},
   "outputs": [
    {
     "data": {
      "image/png": "[encoded data removed]",
      "text/plain": [
       "<Figure size 432x288 with 1 Axes>"
      ]
     },
     "metadata": {
      "needs_background": "light"
     },
     "output_type": "display_data"
    },
    {
     "name": "stdout",
     "output_type": "stream",
     "text": [
      "Policy computed in 6.020063877105713 seconds\n"
     ]
    }
   ],
   "source": [
    "policy_iter_start = time.time()\n",
    "policy_iter_policy = policy_iteration(initial_policy,discount_factor,error_probability)\n",
    "policy_iter_time = time.time() - policy_iter_start\n",
    "tsteps = 20\n",
    "trajectory = simulate(initial_state,policy_iter_policy,error_probability,tsteps)\n",
    "plot_trajectory(trajectory)\n",
    "print(\"Policy computed in %s seconds\" % policy_iter_time)"
   ]
  },
  {
   "cell_type": "code",
   "execution_count": 25,
   "metadata": {},
   "outputs": [],
   "source": [
    "error_probability = 0.25"
   ]
  },
  {
   "cell_type": "code",
   "execution_count": 26,
   "metadata": {},
   "outputs": [
    {
     "data": {
      "image/png": "[encoded data removed]",
      "text/plain": [
       "<Figure size 432x288 with 1 Axes>"
      ]
     },
     "metadata": {
      "needs_background": "light"
     },
     "output_type": "display_data"
    },
    {
     "name": "stdout",
     "output_type": "stream",
     "text": [
      "Policy computed in 21.460499048233032 seconds\n"
     ]
    }
   ],
   "source": [
    "value_iter_start = time.time()\n",
    "value_iter_policy = value_iteration(states,actions,discount_factor,error_probability)\n",
    "value_iter_time = time.time() - value_iter_start\n",
    "tsteps = 100\n",
    "trajectory = simulate(initial_state,value_iter_policy,error_probability,tsteps)\n",
    "plot_trajectory(trajectory)\n",
    "print('Policy computed in %s seconds' % value_iter_time)"
   ]
  },
  {
   "cell_type": "code",
   "execution_count": 27,
   "metadata": {},
   "outputs": [
    {
     "data": {
      "image/png": "[encoded data removed]",
      "text/plain": [
       "<Figure size 432x288 with 1 Axes>"
      ]
     },
     "metadata": {
      "needs_background": "light"
     },
     "output_type": "display_data"
    },
    {
     "name": "stdout",
     "output_type": "stream",
     "text": [
      "Policy computed in 10.628075122833252 seconds\n"
     ]
    }
   ],
   "source": [
    "policy_iter_start = time.time()\n",
    "policy_iter_policy = policy_iteration(initial_policy,discount_factor,error_probability)\n",
    "policy_iter_time = time.time() - policy_iter_start\n",
    "tsteps = 100\n",
    "trajectory = simulate(initial_state,policy_iter_policy,error_probability,tsteps)\n",
    "plot_trajectory(trajectory)\n",
    "print(\"Policy computed in %s seconds\" % policy_iter_time)"
   ]
  },
  {
   "cell_type": "code",
   "execution_count": null,
   "metadata": {},
   "outputs": [],
   "source": []
  }
 ],
 "metadata": {
  "kernelspec": {
   "display_name": "Python 3",
   "language": "python",
   "name": "python3"
  },
  "language_info": {
   "codemirror_mode": {
    "name": "ipython",
    "version": 3
   },
   "file_extension": ".py",
   "mimetype": "text/x-python",
   "name": "python",
   "nbconvert_exporter": "python",
   "pygments_lexer": "ipython3",
   "version": "3.7.3"
  }
 },
 "nbformat": 4,
 "nbformat_minor": 2
}
